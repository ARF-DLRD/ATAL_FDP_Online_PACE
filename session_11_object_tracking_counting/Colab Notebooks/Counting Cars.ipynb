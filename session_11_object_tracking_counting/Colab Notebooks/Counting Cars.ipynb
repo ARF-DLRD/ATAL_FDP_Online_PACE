{
 "cells": [
  {
   "cell_type": "code",
   "execution_count": null,
   "metadata": {
    "colab": {
     "base_uri": "https://localhost:8080/"
    },
    "executionInfo": {
     "elapsed": 2585,
     "status": "ok",
     "timestamp": 1737951714381,
     "user": {
      "displayName": "CUTe IIUM",
      "userId": "06247371215935322456"
     },
     "user_tz": -480
    },
    "id": "8He3zLISsGQa",
    "outputId": "b2fe55a1-7443-416f-d4ce-621dc1656674"
   },
   "outputs": [],
   "source": [
    "from google.colab import drive\n",
    "drive.mount('/content/drive')"
   ]
  },
  {
   "cell_type": "code",
   "execution_count": null,
   "metadata": {
    "executionInfo": {
     "elapsed": 4,
     "status": "ok",
     "timestamp": 1737951729739,
     "user": {
      "displayName": "CUTe IIUM",
      "userId": "06247371215935322456"
     },
     "user_tz": -480
    },
    "id": "PGAlbLDNseYn"
   },
   "outputs": [],
   "source": [
    "video_path = '/content/drive/MyDrive/CountingUsingYolov8Workshop/videocars.mp4'  # Update this with the correct file name if different"
   ]
  },
  {
   "cell_type": "code",
   "execution_count": null,
   "metadata": {
    "colab": {
     "base_uri": "https://localhost:8080/"
    },
    "executionInfo": {
     "elapsed": 18123,
     "status": "ok",
     "timestamp": 1737951751461,
     "user": {
      "displayName": "CUTe IIUM",
      "userId": "06247371215935322456"
     },
     "user_tz": -480
    },
    "id": "sWImxPI0sndX",
    "outputId": "cd2cf34a-4bb6-4421-bab0-e975c6f74058"
   },
   "outputs": [],
   "source": [
    "!pip install ultralytics\n",
    "!pip install opencv-python\n",
    "!pip install filterpy==1.4.5"
   ]
  },
  {
   "cell_type": "code",
   "execution_count": null,
   "metadata": {
    "colab": {
     "base_uri": "https://localhost:8080/"
    },
    "executionInfo": {
     "elapsed": 590,
     "status": "ok",
     "timestamp": 1737951756724,
     "user": {
      "displayName": "CUTe IIUM",
      "userId": "06247371215935322456"
     },
     "user_tz": -480
    },
    "id": "0fmvKqqxs8oZ",
    "outputId": "7bf95b49-643a-48c1-b716-d27c63064946"
   },
   "outputs": [],
   "source": [
    "# Download the sort.py file\n",
    "!wget https://raw.githubusercontent.com/abewley/sort/master/sort.py\n",
    "\n",
    "# Modify the sort.py file to remove matplotlib dependency\n",
    "with open('sort.py', 'r') as file:\n",
    "    lines = file.readlines()\n",
    "\n",
    "# Remove or comment out any lines that import or use matplotlib\n",
    "new_lines = []\n",
    "for line in lines:\n",
    "    if \"import matplotlib\" not in line and \"matplotlib.use\" not in line:\n",
    "        new_lines.append(line)\n",
    "\n",
    "with open('sort.py', 'w') as file:\n",
    "    file.writelines(new_lines)"
   ]
  },
  {
   "cell_type": "code",
   "execution_count": null,
   "metadata": {
    "executionInfo": {
     "elapsed": 320,
     "status": "ok",
     "timestamp": 1737951760812,
     "user": {
      "displayName": "CUTe IIUM",
      "userId": "06247371215935322456"
     },
     "user_tz": -480
    },
    "id": "bFXFVECU7JAB"
   },
   "outputs": [],
   "source": [
    "# Import required libraries\n",
    "import cv2\n",
    "import numpy as np\n",
    "from ultralytics import YOLO\n",
    "from sort import Sort  # Ensure the correct import for SORT\n",
    "from google.colab import drive  # To mount Google Drive\n",
    "from google.colab.patches import cv2_imshow  # To display frames in Colab"
   ]
  },
  {
   "cell_type": "code",
   "execution_count": null,
   "metadata": {
    "executionInfo": {
     "elapsed": 318,
     "status": "ok",
     "timestamp": 1737951788477,
     "user": {
      "displayName": "CUTe IIUM",
      "userId": "06247371215935322456"
     },
     "user_tz": -480
    },
    "id": "jEGdHopo7O2Z"
   },
   "outputs": [],
   "source": [
    "# Define paths\n",
    "output_folder = '/content/drive/MyDrive/CountingUsingYolov8Workshop/output'  # Output folder in Google Drive\n",
    "output_video_path = f'{output_folder}/output_video_cars.mp4'  # Path to save the output video"
   ]
  },
  {
   "cell_type": "code",
   "execution_count": null,
   "metadata": {
    "colab": {
     "base_uri": "https://localhost:8080/",
     "height": 1000
    },
    "id": "E_1mu_s-3rVn",
    "outputId": "fe07586b-c434-4b71-f7a5-63aff2ad4767"
   },
   "outputs": [],
   "source": [
    "# Load the YOLO model\n",
    "model = YOLO('yolov8m.pt')  # Load a pretrained model\n",
    "\n",
    "# Define the line for counting vehicles\n",
    "LINE = [300, 300, 750, 300]\n",
    "\n",
    "# Initialize the tracker\n",
    "tracker = Sort(max_age=20, min_hits=3, iou_threshold=0.3)\n",
    "\n",
    "# List to store unique vehicle IDs\n",
    "totalCount = []\n",
    "\n",
    "# Open the video file\n",
    "vid = cv2.VideoCapture(video_path)\n",
    "\n",
    "# Get video properties\n",
    "fps = int(vid.get(cv2.CAP_PROP_FPS))\n",
    "frame_width = int(vid.get(cv2.CAP_PROP_FRAME_WIDTH))\n",
    "frame_height = int(vid.get(cv2.CAP_PROP_FRAME_HEIGHT))\n",
    "\n",
    "# Initialize video writer\n",
    "fourcc = cv2.VideoWriter_fourcc(*'mp4v')  # Codec for .mp4 files\n",
    "out = cv2.VideoWriter(output_video_path, fourcc, fps, (frame_width, frame_height))\n",
    "\n",
    "while True:\n",
    "    ret, frame = vid.read()\n",
    "    if not ret:\n",
    "        break  # End of video or failed read\n",
    "\n",
    "    # Detect objects in the frame\n",
    "    results = model(frame, stream=True)\n",
    "    detections = np.empty((0, 5))\n",
    "\n",
    "    # Filter detections for vehicles (car, motorcycle, truck, bus)\n",
    "    for r in results:\n",
    "        boxes = r.boxes\n",
    "        for bbox in boxes:\n",
    "            x1, y1, x2, y2 = bbox.xyxy[0]\n",
    "            x1, y1, x2, y2 = int(x1), int(y1), int(x2), int(y2)\n",
    "\n",
    "            cls_idx = int(bbox.cls[0])  # Get the class index\n",
    "            cls_name = model.names[cls_idx]  # Get the class name\n",
    "\n",
    "            conf = round(float(bbox.conf[0]), 2)  # Get the confidence score\n",
    "\n",
    "            if cls_name in ['car', 'motorcycle', 'truck', 'bus']:\n",
    "                cv2.rectangle(frame, (x1, y1), (x2, y2), (225, 0, 0), 3)\n",
    "                cv2.putText(frame, f'{cls_name} {conf}', (x1, y1 - 10), cv2.FONT_HERSHEY_SIMPLEX, 1, (0, 255, 0))\n",
    "\n",
    "                currentArray = np.array([x1, y1, x2, y2, conf])\n",
    "                detections = np.vstack((detections, currentArray))\n",
    "\n",
    "    # Update the tracker with the current detections\n",
    "    resultsTracker = tracker.update(detections)\n",
    "\n",
    "    # Process each tracked vehicle\n",
    "    for result in resultsTracker:\n",
    "        x1, y1, x2, y2, ID = result\n",
    "        x1, y1, x2, y2 = int(x1), int(y1), int(x2), int(y2)\n",
    "\n",
    "        # Calculate the center of the bounding box\n",
    "        w, h = x2 - x1, y2 - y1\n",
    "        cx = x1 + w // 2\n",
    "        cy = y1 + h // 2\n",
    "\n",
    "        # Draw the center and bounding box\n",
    "        cv2.circle(frame, (cx, cy), radius=4, color=(255, 255, 0), thickness=cv2.FILLED)\n",
    "        cv2.rectangle(frame, (x1, y1), (x2, y2), (225, 0, 0), 3)\n",
    "        cv2.putText(frame, f'{ID} {conf}', (x1, y1 - 10), cv2.FONT_HERSHEY_SIMPLEX, 1, (0, 255, 0))\n",
    "\n",
    "        # Check if the vehicle crosses the line\n",
    "        if LINE[0] < cx < LINE[2] and LINE[1] < cy < LINE[1] + 20:  # Define ROI/boundary\n",
    "            if ID not in totalCount:\n",
    "                totalCount.append(ID)\n",
    "\n",
    "    # Draw the line and display the total count of vehicles\n",
    "    cv2.line(frame, (LINE[0], LINE[1]), (LINE[2], LINE[3]), [0, 0, 255], 4)\n",
    "    totalCars = len(totalCount)\n",
    "    cv2.putText(frame, f'Number of vehicles: {totalCars}', (30, 30), cv2.FONT_HERSHEY_SIMPLEX, 1, (0, 255, 0), 2)\n",
    "\n",
    "    # Write the frame to the output video\n",
    "    out.write(frame)\n",
    "\n",
    "    # Display the frame in Google Colab\n",
    "    cv2_imshow(frame)\n",
    "\n",
    "    # Add a small delay to simulate smoother video playback\n",
    "    if cv2.waitKey(1) & 0xFF == ord('q'):\n",
    "        break\n",
    "\n",
    "# Release the video capture and writer\n",
    "vid.release()\n",
    "out.release()\n",
    "cv2.destroyAllWindows()\n",
    "\n",
    "print(f\"Output video saved to: {output_video_path}\")"
   ]
  }
 ],
 "metadata": {
  "colab": {
   "authorship_tag": "ABX9TyO5/rCP8moH97j3LH8sGTLt",
   "provenance": []
  },
  "kernelspec": {
   "display_name": "Python 3",
   "name": "python3"
  },
  "language_info": {
   "name": "python"
  }
 },
 "nbformat": 4,
 "nbformat_minor": 0
}
