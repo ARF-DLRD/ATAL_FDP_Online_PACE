{
 "cells": [
  {
   "cell_type": "code",
   "execution_count": null,
   "metadata": {
    "colab": {
     "base_uri": "https://localhost:8080/"
    },
    "executionInfo": {
     "elapsed": 27938,
     "status": "ok",
     "timestamp": 1737968031095,
     "user": {
      "displayName": "CUTe IIUM",
      "userId": "06247371215935322456"
     },
     "user_tz": -480
    },
    "id": "8He3zLISsGQa",
    "outputId": "e37fe52e-24ba-4bf7-ef62-4d4c03a26578"
   },
   "outputs": [],
   "source": [
    "from google.colab import drive\n",
    "drive.mount('/content/drive')"
   ]
  },
  {
   "cell_type": "code",
   "execution_count": null,
   "metadata": {
    "id": "PGAlbLDNseYn"
   },
   "outputs": [],
   "source": [
    "video_path = '/content/drive/MyDrive/CountingUsingYolov8Workshop/videopeople.mp4'  # Update this with the correct file name if different"
   ]
  },
  {
   "cell_type": "code",
   "execution_count": null,
   "metadata": {
    "colab": {
     "base_uri": "https://localhost:8080/"
    },
    "executionInfo": {
     "elapsed": 12591,
     "status": "ok",
     "timestamp": 1737968090605,
     "user": {
      "displayName": "CUTe IIUM",
      "userId": "06247371215935322456"
     },
     "user_tz": -480
    },
    "id": "sWImxPI0sndX",
    "outputId": "fe10455a-b1c0-4a17-9f2f-c0cf2ba6555f"
   },
   "outputs": [],
   "source": [
    "!pip install ultralytics\n",
    "!pip install opencv-python\n",
    "!pip install filterpy==1.4.5"
   ]
  },
  {
   "cell_type": "code",
   "execution_count": null,
   "metadata": {
    "colab": {
     "base_uri": "https://localhost:8080/"
    },
    "executionInfo": {
     "elapsed": 621,
     "status": "ok",
     "timestamp": 1737968139625,
     "user": {
      "displayName": "CUTe IIUM",
      "userId": "06247371215935322456"
     },
     "user_tz": -480
    },
    "id": "0fmvKqqxs8oZ",
    "outputId": "41c46734-4264-4576-cf7c-93bd31aac6ba"
   },
   "outputs": [],
   "source": [
    "# Download the sort.py file\n",
    "!wget https://raw.githubusercontent.com/abewley/sort/master/sort.py\n",
    "\n",
    "# Modify the sort.py file to remove matplotlib dependency\n",
    "with open('sort.py', 'r') as file:\n",
    "    lines = file.readlines()\n",
    "\n",
    "# Remove or comment out any lines that import or use matplotlib\n",
    "new_lines = []\n",
    "for line in lines:\n",
    "    if \"import matplotlib\" not in line and \"matplotlib.use\" not in line:\n",
    "        new_lines.append(line)\n",
    "\n",
    "with open('sort.py', 'w') as file:\n",
    "    file.writelines(new_lines)"
   ]
  },
  {
   "cell_type": "code",
   "execution_count": null,
   "metadata": {
    "colab": {
     "base_uri": "https://localhost:8080/"
    },
    "executionInfo": {
     "elapsed": 11544,
     "status": "ok",
     "timestamp": 1737968174533,
     "user": {
      "displayName": "CUTe IIUM",
      "userId": "06247371215935322456"
     },
     "user_tz": -480
    },
    "id": "0yd4kqFXDeVi",
    "outputId": "13e8b890-a446-4d73-bc83-491c869113e1"
   },
   "outputs": [],
   "source": [
    "# Import required libraries\n",
    "import cv2\n",
    "import numpy as np\n",
    "import time\n",
    "from google.colab.patches import cv2_imshow  # For image display in Colab\n",
    "from ultralytics import YOLO  # YOLO model\n",
    "from sort import Sort  # SORT tracker"
   ]
  },
  {
   "cell_type": "code",
   "execution_count": null,
   "metadata": {
    "id": "LKHdRbfpDiuZ"
   },
   "outputs": [],
   "source": [
    "# Define path for output video\n",
    "output_folder = '/content/drive/MyDrive/CountingUsingYolov8Workshop/output'  # Output folder in Google Drive\n",
    "output_video_path = f'{output_folder}/output_video_people.mp4'  # Path to save the output video"
   ]
  },
  {
   "cell_type": "code",
   "execution_count": null,
   "metadata": {
    "colab": {
     "base_uri": "https://localhost:8080/",
     "height": 1000,
     "output_embedded_package_id": "1RJSQxEtGdwsfxrnCa8ZmzaM7kwqbq7U0"
    },
    "executionInfo": {
     "elapsed": 1,
     "status": "ok",
     "timestamp": 1737968894951,
     "user": {
      "displayName": "CUTe IIUM",
      "userId": "06247371215935322456"
     },
     "user_tz": -480
    },
    "id": "asiqEVKkoKTQ",
    "outputId": "ad085aec-8e35-454f-d77e-718e4f637c4d"
   },
   "outputs": [],
   "source": [
    "# Load the YOLO model\n",
    "model = YOLO('yolov8m.pt')\n",
    "\n",
    "# Initialize the tracker\n",
    "tracker = Sort(max_age=20, min_hits=3, iou_threshold=0.3)\n",
    "\n",
    "# Open the video file\n",
    "vid = cv2.VideoCapture(video_path)\n",
    "\n",
    "# Get video properties\n",
    "fps = int(vid.get(cv2.CAP_PROP_FPS))\n",
    "frame_width = int(vid.get(cv2.CAP_PROP_FRAME_WIDTH))\n",
    "frame_height = int(vid.get(cv2.CAP_PROP_FRAME_HEIGHT))\n",
    "\n",
    "# Initialize video writer\n",
    "fourcc = cv2.VideoWriter_fourcc(*'mp4v')  # Codec for .mp4 files\n",
    "out = cv2.VideoWriter(output_video_path, fourcc, fps, (frame_width, frame_height))\n",
    "\n",
    "# Set to store unique person IDs\n",
    "seen_ids = set()\n",
    "\n",
    "while True:\n",
    "    ret, frame = vid.read()\n",
    "    if not ret:\n",
    "        break  # End of video or failed read\n",
    "\n",
    "    # Detect objects in the frame\n",
    "    results = model(frame, stream=True)\n",
    "    detections = np.empty((0, 5))\n",
    "\n",
    "    # Filter detections for persons\n",
    "    for r in results:\n",
    "        boxes = r.boxes\n",
    "        for bbox in boxes:\n",
    "            x1, y1, x2, y2 = bbox.xyxy[0]\n",
    "            x1, y1, x2, y2 = int(x1), int(y1), int(x2), int(y2)\n",
    "\n",
    "            cls_idx = int(bbox.cls[0])\n",
    "            cls_name = model.names[cls_idx]\n",
    "            conf = round(float(bbox.conf[0]), 2)\n",
    "\n",
    "            if cls_name == 'person':\n",
    "                cv2.rectangle(frame, (x1, y1), (x2, y2), (225, 0, 0), 3)\n",
    "                cv2.putText(frame, f'{cls_name} {conf}', (x1, y1 - 10), cv2.FONT_HERSHEY_SIMPLEX, 1, (0, 255, 0))\n",
    "                currentArray = np.array([x1, y1, x2, y2, conf])\n",
    "                detections = np.vstack((detections, currentArray))\n",
    "\n",
    "    # Update the tracker with the current detections\n",
    "    resultsTracker = tracker.update(detections)\n",
    "\n",
    "    # Process each tracked person\n",
    "    for result in resultsTracker:\n",
    "        x1, y1, x2, y2, ID = result\n",
    "        if ID not in seen_ids:\n",
    "            seen_ids.add(ID)\n",
    "\n",
    "    # Display the total count of unique persons\n",
    "    totalPersons = len(seen_ids)\n",
    "    cv2.putText(frame, f'Number of unique persons: {totalPersons}', (30, 30), cv2.FONT_HERSHEY_SIMPLEX, 1, (0, 255, 0), 2)\n",
    "\n",
    "    # Write the frame to the output video\n",
    "    out.write(frame)\n",
    "\n",
    "    # Use cv2_imshow to display the frame in Google Colab (optional)\n",
    "    cv2_imshow(frame)\n",
    "    time.sleep(0.1)  # Add a small delay to avoid overwhelming Colab\n",
    "\n",
    "    # Break the loop if 'q' is pressed\n",
    "    if cv2.waitKey(1) & 0xFF == ord('q'):\n",
    "        break\n",
    "\n",
    "# Release the video capture and writer\n",
    "vid.release()\n",
    "out.release()\n",
    "cv2.destroyAllWindows()\n",
    "\n",
    "print(f\"Output video saved to: {output_video_path}\")"
   ]
  }
 ],
 "metadata": {
  "colab": {
   "authorship_tag": "ABX9TyNTLfa4Azv7lgeeqhUxxPIH",
   "provenance": []
  },
  "kernelspec": {
   "display_name": "Python 3",
   "name": "python3"
  },
  "language_info": {
   "name": "python"
  }
 },
 "nbformat": 4,
 "nbformat_minor": 0
}
